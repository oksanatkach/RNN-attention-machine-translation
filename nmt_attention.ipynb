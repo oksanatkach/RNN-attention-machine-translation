{
 "cells": [
  {
   "cell_type": "markdown",
   "metadata": {},
   "source": [
    "https://www.tensorflow.org/text/tutorials/nmt_with_attention"
   ]
  },
  {
   "cell_type": "code",
   "execution_count": 1,
   "metadata": {},
   "outputs": [],
   "source": [
    "import numpy as np\n",
    "import typing\n",
    "from typing import Any, Tuple\n",
    "import tensorflow as tf\n",
    "import tensorflow_text\n",
    "import matplotlib.pyplot as plt\n",
    "import matplotlib.ticker as ticker"
   ]
  },
  {
   "cell_type": "code",
   "execution_count": 2,
   "metadata": {},
   "outputs": [],
   "source": [
    "use_builtins = True\n",
    "punctuation = '.?!,'\n",
    "acceptable_chars = punctuation + ' abcdefghijklmnopqrstuvwxyzабвгґдеєжзиіїйклмнопрстуфхцчшщьюя'\n",
    "acceptable_chars = tensorflow_text.normalize_utf8(acceptable_chars, 'NFKD')"
   ]
  },
  {
   "cell_type": "code",
   "execution_count": 3,
   "metadata": {},
   "outputs": [],
   "source": [
    "def load_data(path):\n",
    "  text = open(path, 'r', encoding='utf-8').read()\n",
    "\n",
    "  lines = text.splitlines()\n",
    "  pairs = [line.split('\\t') for line in lines]\n",
    "\n",
    "  inp = [inp.lower() for targ, inp, _ in pairs]\n",
    "  targ = [targ.lower() for targ, inp, _ in pairs]\n",
    "\n",
    "  return inp, targ"
   ]
  },
  {
   "cell_type": "code",
   "execution_count": 4,
   "metadata": {},
   "outputs": [],
   "source": [
    "def tf_lower_and_split_punct(text):\n",
    "    # Split accecented characters.\n",
    "    text = tensorflow_text.normalize_utf8(text, 'NFKD')\n",
    "    text = tf.strings.lower(text)\n",
    "    # Keep space, a to z, and select punctuation.\n",
    "    text = tf.strings.regex_replace(text, '[^' + acceptable_chars + ']', '')\n",
    "    # Add spaces around punctuation.\n",
    "    text = tf.strings.regex_replace(text, '[' + punctuation + ']', r' \\0 ')\n",
    "    # Strip whitespace.\n",
    "    text = tf.strings.strip(text)\n",
    "\n",
    "    text = tf.strings.join(['[START]', text, '[END]'], separator=' ')\n",
    "    return text"
   ]
  },
  {
   "cell_type": "code",
   "execution_count": 5,
   "metadata": {},
   "outputs": [],
   "source": [
    "#@title Shape checker\n",
    "class ShapeChecker():\n",
    "  def __init__(self):\n",
    "    # Keep a cache of every axis-name seen\n",
    "    self.shapes = {}\n",
    "\n",
    "  def __call__(self, tensor, names, broadcast=False):\n",
    "    if not tf.executing_eagerly():\n",
    "      return\n",
    "\n",
    "    if isinstance(names, str):\n",
    "      names = (names,)\n",
    "\n",
    "    shape = tf.shape(tensor)\n",
    "    rank = tf.rank(tensor)\n",
    "\n",
    "    if rank != len(names):\n",
    "      raise ValueError(f'Rank mismatch:\\n'\n",
    "                       f'    found {rank}: {shape.numpy()}\\n'\n",
    "                       f'    expected {len(names)}: {names}\\n')\n",
    "\n",
    "    for i, name in enumerate(names):\n",
    "      if isinstance(name, int):\n",
    "        old_dim = name\n",
    "      else:\n",
    "        old_dim = self.shapes.get(name, None)\n",
    "      new_dim = shape[i]\n",
    "\n",
    "      if (broadcast and new_dim == 1):\n",
    "        continue\n",
    "\n",
    "      if old_dim is None:\n",
    "        # If the axis name is new, add its length to the cache.\n",
    "        self.shapes[name] = new_dim\n",
    "        continue\n",
    "\n",
    "      if new_dim != old_dim:\n",
    "        raise ValueError(f\"Shape mismatch for dimension: '{name}'\\n\"\n",
    "                         f\"    found: {new_dim}\\n\"\n",
    "                         f\"    expected: {old_dim}\\n\")"
   ]
  },
  {
   "cell_type": "code",
   "execution_count": 6,
   "metadata": {},
   "outputs": [],
   "source": [
    "# get raw data\n",
    "path_to_data = 'ukr-eng/ukr.txt'\n",
    "inp, targ = load_data(path_to_data)"
   ]
  },
  {
   "cell_type": "code",
   "execution_count": 7,
   "metadata": {},
   "outputs": [],
   "source": [
    "# tf.data.Dataset\n",
    "BUFFER_SIZE = len(inp) # whole dataset size\n",
    "BATCH_SIZE = 64\n",
    "\n",
    "dataset = tf.data.Dataset.from_tensor_slices((inp, targ)).shuffle(BUFFER_SIZE)\n",
    "dataset = dataset.batch(BATCH_SIZE)"
   ]
  },
  {
   "cell_type": "code",
   "execution_count": 8,
   "metadata": {},
   "outputs": [],
   "source": [
    "# text vectorization\n",
    "max_vocab_size = 5000\n",
    "\n",
    "# input_text_processor creates token ID vektors\n",
    "input_text_processor = tf.keras.layers.TextVectorization(\n",
    "    standardize=tf_lower_and_split_punct,\n",
    "    max_tokens=max_vocab_size)\n",
    "input_text_processor.adapt(inp)"
   ]
  },
  {
   "cell_type": "code",
   "execution_count": 9,
   "metadata": {},
   "outputs": [
    {
     "name": "stdout",
     "output_type": "stream",
     "text": [
      "[START] це сталося дуже швидко . [END]        \n"
     ]
    }
   ],
   "source": [
    "# print prepped sentence\n",
    "for example_input_batch, example_target_batch in dataset.take(1):\n",
    "    example_tokens = input_text_processor(example_input_batch)\n",
    "    input_vocab = np.array(input_text_processor.get_vocabulary())\n",
    "    tokens = input_vocab[example_tokens[0].numpy()]\n",
    "    print(' '.join(tokens))"
   ]
  },
  {
   "cell_type": "code",
   "execution_count": 10,
   "metadata": {},
   "outputs": [
    {
     "name": "stdout",
     "output_type": "stream",
     "text": [
      "['', '[UNK]', '[START]', '[END]', '.', 'tom', 'i', 'you', '?', 'to']\n",
      "['', '[UNK]', '[START]', '[END]', '.', ',', 'я', 'том', 'не', '?']\n"
     ]
    }
   ],
   "source": [
    "output_text_processor = tf.keras.layers.TextVectorization(\n",
    "    standardize=tf_lower_and_split_punct,\n",
    "    max_tokens=max_vocab_size)\n",
    "\n",
    "# most common words\n",
    "output_text_processor.adapt(targ)\n",
    "print(output_text_processor.get_vocabulary()[:10])\n",
    "output_text_processor.adapt(inp)\n",
    "print(output_text_processor.get_vocabulary()[:10])"
   ]
  },
  {
   "cell_type": "code",
   "execution_count": 11,
   "metadata": {},
   "outputs": [
    {
     "data": {
      "text/plain": [
       "<tf.Tensor: shape=(3, 10), dtype=int64, numpy=\n",
       "array([[   2,   11,  329,   26,  275,    4,    3,    0,    0,    0],\n",
       "       [   2,   55,   65, 4805,   36, 1409,    9,    3,    0,    0],\n",
       "       [   2,  308,  230,    4,    3,    0,    0,    0,    0,    0]])>"
      ]
     },
     "execution_count": 11,
     "metadata": {},
     "output_type": "execute_result"
    }
   ],
   "source": [
    "example_tokens = input_text_processor(example_input_batch)\n",
    "example_tokens[:3, :10]"
   ]
  },
  {
   "cell_type": "code",
   "execution_count": 12,
   "metadata": {},
   "outputs": [
    {
     "data": {
      "text/plain": [
       "Text(0.5, 1.0, 'Mask')"
      ]
     },
     "execution_count": 12,
     "metadata": {},
     "output_type": "execute_result"
    },
    {
     "data": {
      "image/png": "[encoded data removed]",
      "text/plain": [
       "<Figure size 432x288 with 2 Axes>"
      ]
     },
     "metadata": {
      "needs_background": "light"
     },
     "output_type": "display_data"
    }
   ],
   "source": [
    "plt.subplot(1, 2, 1)\n",
    "plt.pcolormesh(example_tokens)\n",
    "plt.title('Token IDs')\n",
    "\n",
    "plt.subplot(1, 2, 2)\n",
    "plt.pcolormesh(example_tokens != 0)\n",
    "plt.title('Mask')"
   ]
  },
  {
   "cell_type": "code",
   "execution_count": 13,
   "metadata": {},
   "outputs": [],
   "source": [
    "embedding_dim = 256\n",
    "units = 1024"
   ]
  },
  {
   "cell_type": "code",
   "execution_count": 14,
   "metadata": {},
   "outputs": [],
   "source": [
    "class Encoder(tf.keras.layers.Layer):\n",
    "    def __init__(self, input_vocab_size, embedding_dim, enc_units):\n",
    "        super(Encoder, self).__init__()\n",
    "        self.enc_units = enc_units\n",
    "        self.input_vocab_size = input_vocab_size\n",
    "\n",
    "        # The embedding layer converts tokens to vectors\n",
    "        self.embedding = tf.keras.layers.Embedding(self.input_vocab_size,\n",
    "                                                   embedding_dim)\n",
    "\n",
    "        # The GRU RNN layer processes those vectors sequentially.\n",
    "        self.gru = tf.keras.layers.GRU(self.enc_units,\n",
    "                                       # Return the sequence and state\n",
    "                                       return_sequences=True,\n",
    "                                       return_state=True,\n",
    "                                       recurrent_initializer='glorot_uniform')\n",
    "    \n",
    "    def call(self, tokens, state=None):\n",
    "        shape_checker = ShapeChecker()\n",
    "        shape_checker(tokens, ('batch', 's'))\n",
    "\n",
    "        # 2. The embedding layer looks up the embedding for each token.\n",
    "        vectors = self.embedding(tokens)\n",
    "        shape_checker(vectors, ('batch', 's', 'embed_dim'))\n",
    "\n",
    "        # 3. The GRU processes the embedding sequence.\n",
    "        #    output shape: (batch, s, enc_units)\n",
    "        #    state shape: (batch, enc_units)\n",
    "        output, state = self.gru(vectors, initial_state=state)\n",
    "        shape_checker(output, ('batch', 's', 'enc_units'))\n",
    "        shape_checker(state, ('batch', 'enc_units'))\n",
    "\n",
    "        # 4. Returns the new sequence and its state.\n",
    "        return output, state"
   ]
  },
  {
   "cell_type": "code",
   "execution_count": 15,
   "metadata": {},
   "outputs": [
    {
     "name": "stdout",
     "output_type": "stream",
     "text": [
      "Input batch, shape (batch): (64,)\n",
      "Input batch tokens, shape (batch, s): (64, 15)\n",
      "Encoder output, shape (batch, s, units): (64, 15, 1024)\n",
      "Encoder state, shape (batch, units): (64, 1024)\n"
     ]
    }
   ],
   "source": [
    "# Convert the input text to tokens.\n",
    "example_tokens = input_text_processor(example_input_batch)\n",
    "\n",
    "# Encode the input sequence.\n",
    "encoder = Encoder(input_text_processor.vocabulary_size(),\n",
    "                  embedding_dim, units)\n",
    "example_enc_output, example_enc_state = encoder(example_tokens)\n",
    "\n",
    "print(f'Input batch, shape (batch): {example_input_batch.shape}')\n",
    "print(f'Input batch tokens, shape (batch, s): {example_tokens.shape}')\n",
    "print(f'Encoder output, shape (batch, s, units): {example_enc_output.shape}')\n",
    "print(f'Encoder state, shape (batch, units): {example_enc_state.shape}')"
   ]
  },
  {
   "cell_type": "code",
   "execution_count": 16,
   "metadata": {},
   "outputs": [],
   "source": [
    "class BahdanauAttention(tf.keras.layers.Layer):\n",
    "    def __init__(self, units):\n",
    "        super().__init__()\n",
    "        # For Eqn. (4), the  Bahdanau attention\n",
    "        self.W1 = tf.keras.layers.Dense(units, use_bias=False)\n",
    "        self.W2 = tf.keras.layers.Dense(units, use_bias=False)\n",
    "\n",
    "        self.attention = tf.keras.layers.AdditiveAttention()\n",
    "\n",
    "    def call(self, query, value, mask):\n",
    "        shape_checker = ShapeChecker()\n",
    "        shape_checker(query, ('batch', 't', 'query_units'))\n",
    "        shape_checker(value, ('batch', 's', 'value_units'))\n",
    "        shape_checker(mask, ('batch', 's'))\n",
    "\n",
    "        # From Eqn. (4), `W1@ht`.\n",
    "        w1_query = self.W1(query)\n",
    "        shape_checker(w1_query, ('batch', 't', 'attn_units'))\n",
    "\n",
    "        # From Eqn. (4), `W2@hs`.\n",
    "        w2_key = self.W2(value)\n",
    "        shape_checker(w2_key, ('batch', 's', 'attn_units'))\n",
    "\n",
    "        query_mask = tf.ones(tf.shape(query)[:-1], dtype=bool)\n",
    "        value_mask = mask\n",
    "\n",
    "        context_vector, attention_weights = self.attention(\n",
    "            inputs = [w1_query, value, w2_key],\n",
    "            mask=[query_mask, value_mask],\n",
    "            return_attention_scores = True,\n",
    "        )\n",
    "        shape_checker(context_vector, ('batch', 't', 'value_units'))\n",
    "        shape_checker(attention_weights, ('batch', 't', 's'))\n",
    "\n",
    "        return context_vector, attention_weights"
   ]
  },
  {
   "cell_type": "code",
   "execution_count": 17,
   "metadata": {},
   "outputs": [],
   "source": [
    "attention_layer = BahdanauAttention(units)"
   ]
  },
  {
   "cell_type": "code",
   "execution_count": 18,
   "metadata": {},
   "outputs": [
    {
     "name": "stdout",
     "output_type": "stream",
     "text": [
      "Attention result shape: (batch_size, query_seq_length, units):           (64, 2, 1024)\n",
      "Attention weights shape: (batch_size, query_seq_length, value_seq_length): (64, 2, 15)\n"
     ]
    }
   ],
   "source": [
    "# Later, the decoder will generate this attention query\n",
    "example_attention_query = tf.random.normal(shape=[len(example_tokens), 2, 10])\n",
    "\n",
    "# Attend to the encoded tokens\n",
    "\n",
    "context_vector, attention_weights = attention_layer(\n",
    "    query=example_attention_query,\n",
    "    value=example_enc_output,\n",
    "    mask=(example_tokens != 0))\n",
    "\n",
    "print(f'Attention result shape: (batch_size, query_seq_length, units):           {context_vector.shape}')\n",
    "print(f'Attention weights shape: (batch_size, query_seq_length, value_seq_length): {attention_weights.shape}')"
   ]
  },
  {
   "cell_type": "code",
   "execution_count": 19,
   "metadata": {},
   "outputs": [
    {
     "data": {
      "text/plain": [
       "Text(0.5, 1.0, 'Mask')"
      ]
     },
     "execution_count": 19,
     "metadata": {},
     "output_type": "execute_result"
    },
    {
     "data": {
      "image/png": "[encoded data removed]",
      "text/plain": [
       "<Figure size 432x288 with 2 Axes>"
      ]
     },
     "metadata": {
      "needs_background": "light"
     },
     "output_type": "display_data"
    }
   ],
   "source": [
    "plt.subplot(1, 2, 1)\n",
    "plt.pcolormesh(attention_weights[:, 0, :])\n",
    "plt.title('Attention weights')\n",
    "\n",
    "plt.subplot(1, 2, 2)\n",
    "plt.pcolormesh(example_tokens != 0)\n",
    "plt.title('Mask')"
   ]
  },
  {
   "cell_type": "code",
   "execution_count": 20,
   "metadata": {},
   "outputs": [
    {
     "data": {
      "text/plain": [
       "TensorShape([64, 2, 15])"
      ]
     },
     "execution_count": 20,
     "metadata": {},
     "output_type": "execute_result"
    }
   ],
   "source": [
    "attention_weights.shape"
   ]
  },
  {
   "cell_type": "code",
   "execution_count": 21,
   "metadata": {},
   "outputs": [],
   "source": [
    "attention_slice = attention_weights[0, 0].numpy()\n",
    "attention_slice = attention_slice[attention_slice != 0]"
   ]
  },
  {
   "cell_type": "code",
   "execution_count": 22,
   "metadata": {},
   "outputs": [],
   "source": [
    "class DecoderInput(typing.NamedTuple):\n",
    "  new_tokens: Any\n",
    "  enc_output: Any\n",
    "  mask: Any\n",
    "\n",
    "class DecoderOutput(typing.NamedTuple):\n",
    "  logits: Any\n",
    "  attention_weights: Any"
   ]
  },
  {
   "cell_type": "code",
   "execution_count": 23,
   "metadata": {},
   "outputs": [],
   "source": [
    "class Decoder(tf.keras.layers.Layer):\n",
    "    def __init__(self, output_vocab_size, embedding_dim, dec_units):\n",
    "        super(Decoder, self).__init__()\n",
    "        self.dec_units = dec_units\n",
    "        self.output_vocab_size = output_vocab_size\n",
    "        self.embedding_dim = embedding_dim\n",
    "\n",
    "        # For Step 1. The embedding layer convets token IDs to vectors\n",
    "        self.embedding = tf.keras.layers.Embedding(self.output_vocab_size,\n",
    "                                               embedding_dim)\n",
    "\n",
    "        # For Step 2. The RNN keeps track of what's been generated so far.\n",
    "        self.gru = tf.keras.layers.GRU(self.dec_units,\n",
    "                                   return_sequences=True,\n",
    "                                   return_state=True,\n",
    "                                   recurrent_initializer='glorot_uniform')\n",
    "\n",
    "        # For step 3. The RNN output will be the query for the attention layer.\n",
    "        self.attention = BahdanauAttention(self.dec_units)\n",
    "\n",
    "        # For step 4. Eqn. (3): converting `ct` to `at`\n",
    "        self.Wc = tf.keras.layers.Dense(dec_units, activation=tf.math.tanh,\n",
    "                                    use_bias=False)\n",
    "\n",
    "        # For step 5. This fully connected layer produces the logits for each\n",
    "        # output token.\n",
    "        self.fc = tf.keras.layers.Dense(self.output_vocab_size)\n",
    "\n",
    "    def call(self,\n",
    "         inputs: DecoderInput,\n",
    "         state=None) -> Tuple[DecoderOutput, tf.Tensor]:\n",
    "        shape_checker = ShapeChecker()\n",
    "        shape_checker(inputs.new_tokens, ('batch', 't'))\n",
    "        shape_checker(inputs.enc_output, ('batch', 's', 'enc_units'))\n",
    "        shape_checker(inputs.mask, ('batch', 's'))\n",
    "\n",
    "        if state is not None:\n",
    "            shape_checker(state, ('batch', 'dec_units'))\n",
    "\n",
    "        # Step 1. Lookup the embeddings\n",
    "        vectors = self.embedding(inputs.new_tokens)\n",
    "        shape_checker(vectors, ('batch', 't', 'embedding_dim'))\n",
    "\n",
    "        # Step 2. Process one step with the RNN\n",
    "        rnn_output, state = self.gru(vectors, initial_state=state)\n",
    "\n",
    "        shape_checker(rnn_output, ('batch', 't', 'dec_units'))\n",
    "        shape_checker(state, ('batch', 'dec_units'))\n",
    "\n",
    "        # Step 3. Use the RNN output as the query for the attention over the\n",
    "        # encoder output.\n",
    "        context_vector, attention_weights = self.attention(query=rnn_output, value=inputs.enc_output, mask=inputs.mask)\n",
    "        shape_checker(context_vector, ('batch', 't', 'dec_units'))\n",
    "        shape_checker(attention_weights, ('batch', 't', 's'))\n",
    "\n",
    "        # Step 4. Eqn. (3): Join the context_vector and rnn_output\n",
    "        #     [ct; ht] shape: (batch t, value_units + query_units)\n",
    "        context_and_rnn_output = tf.concat([context_vector, rnn_output], axis=-1)\n",
    "\n",
    "        # Step 4. Eqn. (3): `at = tanh(Wc@[ct; ht])`\n",
    "        attention_vector = self.Wc(context_and_rnn_output)\n",
    "        shape_checker(attention_vector, ('batch', 't', 'dec_units'))\n",
    "\n",
    "        # Step 5. Generate logit predictions:\n",
    "        logits = self.fc(attention_vector)\n",
    "        shape_checker(logits, ('batch', 't', 'output_vocab_size'))\n",
    "\n",
    "        return DecoderOutput(logits, attention_weights), state\n"
   ]
  },
  {
   "cell_type": "code",
   "execution_count": 24,
   "metadata": {},
   "outputs": [],
   "source": [
    "decoder = Decoder(output_text_processor.vocabulary_size(), embedding_dim, units)"
   ]
  },
  {
   "cell_type": "code",
   "execution_count": 25,
   "metadata": {},
   "outputs": [],
   "source": [
    "example_output_tokens = output_text_processor(example_target_batch)\n",
    "start_index = output_text_processor.get_vocabulary().index('[START]')\n",
    "first_token = tf.constant([[start_index]] * example_output_tokens.shape[0])"
   ]
  },
  {
   "cell_type": "code",
   "execution_count": 26,
   "metadata": {},
   "outputs": [
    {
     "name": "stdout",
     "output_type": "stream",
     "text": [
      "logits shape: (batch_size, t, output_vocab_size) (64, 1, 5000)\n",
      "state shape: (batch_size, dec_units) (64, 1024)\n"
     ]
    }
   ],
   "source": [
    "# Run the decoder\n",
    "dec_result, dec_state = decoder(\n",
    "    inputs = DecoderInput(new_tokens=first_token,\n",
    "                          enc_output=example_enc_output,\n",
    "                          mask=(example_tokens != 0)),\n",
    "    state = example_enc_state\n",
    ")\n",
    "\n",
    "print(f'logits shape: (batch_size, t, output_vocab_size) {dec_result.logits.shape}')\n",
    "print(f'state shape: (batch_size, dec_units) {dec_state.shape}')"
   ]
  },
  {
   "cell_type": "code",
   "execution_count": 40,
   "metadata": {},
   "outputs": [
    {
     "data": {
      "text/plain": [
       "<tf.Tensor: shape=(64, 1, 14), dtype=float32, numpy=\n",
       "array([[[0.2012021 , 0.19967061, 0.19923267, 0.19939108, 0.20050357,\n",
       "         0.        , 0.        , 0.        , 0.        , 0.        ,\n",
       "         0.        , 0.        , 0.        , 0.        ]],\n",
       "\n",
       "       [[0.2002739 , 0.20077613, 0.19968493, 0.19926798, 0.19999711,\n",
       "         0.        , 0.        , 0.        , 0.        , 0.        ,\n",
       "         0.        , 0.        , 0.        , 0.        ]],\n",
       "\n",
       "       [[0.16702922, 0.16669482, 0.16697586, 0.16663595, 0.16601042,\n",
       "         0.16665381, 0.        , 0.        , 0.        , 0.        ,\n",
       "         0.        , 0.        , 0.        , 0.        ]],\n",
       "\n",
       "       [[0.14300512, 0.14308232, 0.1430955 , 0.1427826 , 0.14321585,\n",
       "         0.14218633, 0.14263225, 0.        , 0.        , 0.        ,\n",
       "         0.        , 0.        , 0.        , 0.        ]],\n",
       "\n",
       "       [[0.11128289, 0.1110601 , 0.11135866, 0.11104943, 0.11143816,\n",
       "         0.11084962, 0.11124688, 0.11053819, 0.11117606, 0.        ,\n",
       "         0.        , 0.        , 0.        , 0.        ]],\n",
       "\n",
       "       [[0.16766353, 0.1672069 , 0.16585483, 0.16584526, 0.16624546,\n",
       "         0.16718403, 0.        , 0.        , 0.        , 0.        ,\n",
       "         0.        , 0.        , 0.        , 0.        ]],\n",
       "\n",
       "       [[0.16676785, 0.16638437, 0.1672946 , 0.16685134, 0.16610394,\n",
       "         0.16659786, 0.        , 0.        , 0.        , 0.        ,\n",
       "         0.        , 0.        , 0.        , 0.        ]],\n",
       "\n",
       "       [[0.12594762, 0.12532789, 0.12509389, 0.12476959, 0.12514497,\n",
       "         0.12401202, 0.12425508, 0.12544887, 0.        , 0.        ,\n",
       "         0.        , 0.        , 0.        , 0.        ]],\n",
       "\n",
       "       [[0.10035037, 0.10076815, 0.10092917, 0.09949172, 0.09945329,\n",
       "         0.09968448, 0.09948038, 0.09991691, 0.09974024, 0.10018527,\n",
       "         0.        , 0.        , 0.        , 0.        ]],\n",
       "\n",
       "       [[0.12529567, 0.1258173 , 0.12497708, 0.12531528, 0.1243184 ,\n",
       "         0.12448843, 0.12459677, 0.1251911 , 0.        , 0.        ,\n",
       "         0.        , 0.        , 0.        , 0.        ]],\n",
       "\n",
       "       [[0.14274055, 0.14321066, 0.1429264 , 0.14204437, 0.14349933,\n",
       "         0.14247018, 0.14310849, 0.        , 0.        , 0.        ,\n",
       "         0.        , 0.        , 0.        , 0.        ]],\n",
       "\n",
       "       [[0.12503219, 0.12555273, 0.12502867, 0.12442473, 0.12391635,\n",
       "         0.12597223, 0.12492643, 0.12514663, 0.        , 0.        ,\n",
       "         0.        , 0.        , 0.        , 0.        ]],\n",
       "\n",
       "       [[0.11149207, 0.11195624, 0.11125807, 0.11091745, 0.11088771,\n",
       "         0.11095425, 0.11093882, 0.11053742, 0.11105786, 0.        ,\n",
       "         0.        , 0.        , 0.        , 0.        ]],\n",
       "\n",
       "       [[0.11156125, 0.1120257 , 0.11120885, 0.11110607, 0.11084839,\n",
       "         0.11071131, 0.11062007, 0.11067704, 0.11124127, 0.        ,\n",
       "         0.        , 0.        , 0.        , 0.        ]],\n",
       "\n",
       "       [[0.16747338, 0.1671381 , 0.16684994, 0.16592209, 0.1658633 ,\n",
       "         0.16675328, 0.        , 0.        , 0.        , 0.        ,\n",
       "         0.        , 0.        , 0.        , 0.        ]],\n",
       "\n",
       "       [[0.16736504, 0.16702998, 0.16640781, 0.16656841, 0.1657682 ,\n",
       "         0.16686054, 0.        , 0.        , 0.        , 0.        ,\n",
       "         0.        , 0.        , 0.        , 0.        ]],\n",
       "\n",
       "       [[0.11128833, 0.11120713, 0.11179072, 0.11030371, 0.11088275,\n",
       "         0.11177946, 0.11096195, 0.11068796, 0.11109797, 0.        ,\n",
       "         0.        , 0.        , 0.        , 0.        ]],\n",
       "\n",
       "       [[0.12610008, 0.12575664, 0.12447396, 0.12454022, 0.12405203,\n",
       "         0.12455592, 0.12485629, 0.12566489, 0.        , 0.        ,\n",
       "         0.        , 0.        , 0.        , 0.        ]],\n",
       "\n",
       "       [[0.11147494, 0.11145384, 0.1109663 , 0.11026353, 0.11130403,\n",
       "         0.1109306 , 0.11119546, 0.1109846 , 0.1114267 , 0.        ,\n",
       "         0.        , 0.        , 0.        , 0.        ]],\n",
       "\n",
       "       [[0.20070446, 0.2003198 , 0.19958179, 0.19896752, 0.20042638,\n",
       "         0.        , 0.        , 0.        , 0.        , 0.        ,\n",
       "         0.        , 0.        , 0.        , 0.        ]],\n",
       "\n",
       "       [[0.10060843, 0.10102729, 0.10036236, 0.09928063, 0.09941734,\n",
       "         0.09958843, 0.09987599, 0.10000338, 0.09967357, 0.10016266,\n",
       "         0.        , 0.        , 0.        , 0.        ]],\n",
       "\n",
       "       [[0.16695495, 0.16765003, 0.16657332, 0.16611171, 0.16599996,\n",
       "         0.16670997, 0.        , 0.        , 0.        , 0.        ,\n",
       "         0.        , 0.        , 0.        , 0.        ]],\n",
       "\n",
       "       [[0.11144277, 0.11099865, 0.11110154, 0.11137233, 0.11125952,\n",
       "         0.11132124, 0.11086426, 0.11057398, 0.11106571, 0.        ,\n",
       "         0.        , 0.        , 0.        , 0.        ]],\n",
       "\n",
       "       [[0.11124752, 0.11126304, 0.11083166, 0.11097994, 0.11122675,\n",
       "         0.11132024, 0.11108669, 0.11081167, 0.11123242, 0.        ,\n",
       "         0.        , 0.        , 0.        , 0.        ]],\n",
       "\n",
       "       [[0.1434322 , 0.14344683, 0.14323217, 0.14205728, 0.14233543,\n",
       "         0.14222302, 0.14327316, 0.        , 0.        , 0.        ,\n",
       "         0.        , 0.        , 0.        , 0.        ]],\n",
       "\n",
       "       [[0.12605034, 0.12570705, 0.12442487, 0.12449109, 0.1240031 ,\n",
       "         0.12463026, 0.12497771, 0.12571558, 0.        , 0.        ,\n",
       "         0.        , 0.        , 0.        , 0.        ]],\n",
       "\n",
       "       [[0.16698997, 0.16768518, 0.1666395 , 0.16647111, 0.16580188,\n",
       "         0.16641238, 0.        , 0.        , 0.        , 0.        ,\n",
       "         0.        , 0.        , 0.        , 0.        ]],\n",
       "\n",
       "       [[0.11173876, 0.11151505, 0.1118518 , 0.11063199, 0.11070038,\n",
       "         0.11084941, 0.11068704, 0.11057676, 0.11144879, 0.        ,\n",
       "         0.        , 0.        , 0.        , 0.        ]],\n",
       "\n",
       "       [[0.0916424 , 0.09202394, 0.09155524, 0.09133364, 0.09041943,\n",
       "         0.09058611, 0.09071598, 0.09059326, 0.08991732, 0.09023304,\n",
       "         0.09097955, 0.        , 0.        , 0.        ]],\n",
       "\n",
       "       [[0.1245784 , 0.12509705, 0.12458201, 0.12574917, 0.12570304,\n",
       "         0.12509164, 0.12445173, 0.12474701, 0.        , 0.        ,\n",
       "         0.        , 0.        , 0.        , 0.        ]],\n",
       "\n",
       "       [[0.1676812 , 0.16547796, 0.16652946, 0.166468  , 0.16652001,\n",
       "         0.1673234 , 0.        , 0.        , 0.        , 0.        ,\n",
       "         0.        , 0.        , 0.        , 0.        ]],\n",
       "\n",
       "       [[0.1252065 , 0.12499113, 0.12348963, 0.12504408, 0.1247015 ,\n",
       "         0.12596087, 0.12521307, 0.1253932 , 0.        , 0.        ,\n",
       "         0.        , 0.        , 0.        , 0.        ]],\n",
       "\n",
       "       [[0.07198226, 0.07178624, 0.07188221, 0.07112157, 0.07124233,\n",
       "         0.07144869, 0.07148673, 0.07088619, 0.07107991, 0.07136696,\n",
       "         0.07122456, 0.07134318, 0.071371  , 0.07177823]],\n",
       "\n",
       "       [[0.14299142, 0.14300601, 0.14281467, 0.14299424, 0.14294448,\n",
       "         0.1423878 , 0.14286132, 0.        , 0.        , 0.        ,\n",
       "         0.        , 0.        , 0.        , 0.        ]],\n",
       "\n",
       "       [[0.10050225, 0.09944205, 0.10089251, 0.10039896, 0.09958453,\n",
       "         0.09990635, 0.099742  , 0.0997076 , 0.09955283, 0.100271  ,\n",
       "         0.        , 0.        , 0.        , 0.        ]],\n",
       "\n",
       "       [[0.14310478, 0.14245507, 0.14250305, 0.14252086, 0.1434157 ,\n",
       "         0.14278641, 0.14321415, 0.        , 0.        , 0.        ,\n",
       "         0.        , 0.        , 0.        , 0.        ]],\n",
       "\n",
       "       [[0.14331311, 0.1437851 , 0.14319877, 0.142382  , 0.14220496,\n",
       "         0.14199996, 0.14311612, 0.        , 0.        , 0.        ,\n",
       "         0.        , 0.        , 0.        , 0.        ]],\n",
       "\n",
       "       [[0.12562542, 0.12500484, 0.12516943, 0.12478521, 0.12512217,\n",
       "         0.12452339, 0.12439474, 0.12537473, 0.        , 0.        ,\n",
       "         0.        , 0.        , 0.        , 0.        ]],\n",
       "\n",
       "       [[0.07208757, 0.07189126, 0.07138146, 0.0720368 , 0.07117932,\n",
       "         0.07124459, 0.07122239, 0.07153637, 0.07100226, 0.07124051,\n",
       "         0.07144311, 0.07092133, 0.07114675, 0.07166637]],\n",
       "\n",
       "       [[0.16758487, 0.16712846, 0.16661797, 0.16605408, 0.16564068,\n",
       "         0.16697396, 0.        , 0.        , 0.        , 0.        ,\n",
       "         0.        , 0.        , 0.        , 0.        ]],\n",
       "\n",
       "       [[0.1432845 , 0.14388102, 0.14332347, 0.14245006, 0.1416875 ,\n",
       "         0.14222443, 0.14314902, 0.        , 0.        , 0.        ,\n",
       "         0.        , 0.        , 0.        , 0.        ]],\n",
       "\n",
       "       [[0.1432464 , 0.14384277, 0.1428282 , 0.14232592, 0.14250742,\n",
       "         0.14230114, 0.14294812, 0.        , 0.        , 0.        ,\n",
       "         0.        , 0.        , 0.        , 0.        ]],\n",
       "\n",
       "       [[0.1668889 , 0.1675837 , 0.16763537, 0.16579562, 0.16564798,\n",
       "         0.16644837, 0.        , 0.        , 0.        , 0.        ,\n",
       "         0.        , 0.        , 0.        , 0.        ]],\n",
       "\n",
       "       [[0.16729775, 0.16661376, 0.16669339, 0.16653359, 0.1660814 ,\n",
       "         0.16678002, 0.        , 0.        , 0.        , 0.        ,\n",
       "         0.        , 0.        , 0.        , 0.        ]],\n",
       "\n",
       "       [[0.14261423, 0.1416235 , 0.14344998, 0.14310345, 0.14368461,\n",
       "         0.14263837, 0.14288591, 0.        , 0.        , 0.        ,\n",
       "         0.        , 0.        , 0.        , 0.        ]],\n",
       "\n",
       "       [[0.12486172, 0.12487447, 0.12470738, 0.12535922, 0.12499739,\n",
       "         0.12549749, 0.12471905, 0.12498321, 0.        , 0.        ,\n",
       "         0.        , 0.        , 0.        , 0.        ]],\n",
       "\n",
       "       [[0.10064141, 0.10043992, 0.10020154, 0.09989537, 0.0991236 ,\n",
       "         0.09943395, 0.1002418 , 0.10001175, 0.09966145, 0.10034924,\n",
       "         0.        , 0.        , 0.        , 0.        ]],\n",
       "\n",
       "       [[0.14281064, 0.14368783, 0.14338735, 0.1435345 , 0.14222862,\n",
       "         0.1417236 , 0.14262748, 0.        , 0.        , 0.        ,\n",
       "         0.        , 0.        , 0.        , 0.        ]],\n",
       "\n",
       "       [[0.10018174, 0.10025496, 0.10020818, 0.10075445, 0.09956539,\n",
       "         0.09957752, 0.10017883, 0.09984338, 0.09938738, 0.10004812,\n",
       "         0.        , 0.        , 0.        , 0.        ]],\n",
       "\n",
       "       [[0.14357379, 0.14232889, 0.142619  , 0.14242911, 0.14306769,\n",
       "         0.14251238, 0.14346913, 0.        , 0.        , 0.        ,\n",
       "         0.        , 0.        , 0.        , 0.        ]],\n",
       "\n",
       "       [[0.09127107, 0.09102249, 0.09062964, 0.0909853 , 0.09107068,\n",
       "         0.09131958, 0.09033001, 0.09044515, 0.09100712, 0.09078006,\n",
       "         0.09113891, 0.        , 0.        , 0.        ]],\n",
       "\n",
       "       [[0.10018793, 0.10060503, 0.10043073, 0.10054857, 0.10009299,\n",
       "         0.09975731, 0.09958981, 0.09967539, 0.09935471, 0.09975754,\n",
       "         0.        , 0.        , 0.        , 0.        ]],\n",
       "\n",
       "       [[0.07721305, 0.07700275, 0.07666698, 0.07675025, 0.07709617,\n",
       "         0.07630725, 0.07747839, 0.0773629 , 0.07697819, 0.07687798,\n",
       "         0.07663721, 0.07662422, 0.07700468, 0.        ]],\n",
       "\n",
       "       [[0.16744156, 0.16655149, 0.16640158, 0.16622889, 0.16628242,\n",
       "         0.16709402, 0.        , 0.        , 0.        , 0.        ,\n",
       "         0.        , 0.        , 0.        , 0.        ]],\n",
       "\n",
       "       [[0.16759288, 0.16713645, 0.16578494, 0.16606393, 0.1662798 ,\n",
       "         0.16714205, 0.        , 0.        , 0.        , 0.        ,\n",
       "         0.        , 0.        , 0.        , 0.        ]],\n",
       "\n",
       "       [[0.11150252, 0.11156272, 0.11018045, 0.11121764, 0.11023244,\n",
       "         0.11116255, 0.1116027 , 0.11108948, 0.11144957, 0.        ,\n",
       "         0.        , 0.        , 0.        , 0.        ]],\n",
       "\n",
       "       [[0.12505887, 0.12462699, 0.12574098, 0.12502289, 0.12471084,\n",
       "         0.12519403, 0.12449202, 0.12515336, 0.        , 0.        ,\n",
       "         0.        , 0.        , 0.        , 0.        ]],\n",
       "\n",
       "       [[0.11151814, 0.11198243, 0.11193639, 0.11057188, 0.11059152,\n",
       "         0.1107426 , 0.11077155, 0.110682  , 0.11120357, 0.        ,\n",
       "         0.        , 0.        , 0.        , 0.        ]],\n",
       "\n",
       "       [[0.11200757, 0.11154964, 0.11058094, 0.1110287 , 0.1108809 ,\n",
       "         0.11066399, 0.11075279, 0.11094351, 0.11159203, 0.        ,\n",
       "         0.        , 0.        , 0.        , 0.        ]],\n",
       "\n",
       "       [[0.20073627, 0.20018958, 0.19950351, 0.19934054, 0.20023005,\n",
       "         0.        , 0.        , 0.        , 0.        , 0.        ,\n",
       "         0.        , 0.        , 0.        , 0.        ]],\n",
       "\n",
       "       [[0.14315407, 0.14276421, 0.14160979, 0.14287657, 0.1437348 ,\n",
       "         0.14278851, 0.14307202, 0.        , 0.        , 0.        ,\n",
       "         0.        , 0.        , 0.        , 0.        ]],\n",
       "\n",
       "       [[0.14316285, 0.14375886, 0.14249091, 0.1425786 , 0.14270131,\n",
       "         0.142369  , 0.14293845, 0.        , 0.        , 0.        ,\n",
       "         0.        , 0.        , 0.        , 0.        ]],\n",
       "\n",
       "       [[0.14290735, 0.14262125, 0.14354767, 0.14247338, 0.14290956,\n",
       "         0.14253691, 0.14300382, 0.        , 0.        , 0.        ,\n",
       "         0.        , 0.        , 0.        , 0.        ]],\n",
       "\n",
       "       [[0.14272086, 0.14331505, 0.14381833, 0.14207867, 0.14283764,\n",
       "         0.14238419, 0.14284518, 0.        , 0.        , 0.        ,\n",
       "         0.        , 0.        , 0.        , 0.        ]]], dtype=float32)>"
      ]
     },
     "execution_count": 40,
     "metadata": {},
     "output_type": "execute_result"
    }
   ],
   "source": [
    "dec_result.attention_weights"
   ]
  },
  {
   "cell_type": "code",
   "execution_count": 41,
   "metadata": {},
   "outputs": [],
   "source": [
    "sampled_token = tf.random.categorical(dec_result.logits[:, 0, :], num_samples=1)"
   ]
  },
  {
   "cell_type": "code",
   "execution_count": 42,
   "metadata": {},
   "outputs": [
    {
     "data": {
      "text/plain": [
       "array([['розмовляю'],\n",
       "       ['краватку'],\n",
       "       ['кататися'],\n",
       "       ['вставай'],\n",
       "       ['розбудити']], dtype='<U16')"
      ]
     },
     "execution_count": 42,
     "metadata": {},
     "output_type": "execute_result"
    }
   ],
   "source": [
    "vocab = np.array(output_text_processor.get_vocabulary())\n",
    "first_word = vocab[sampled_token.numpy()]\n",
    "first_word[:5]"
   ]
  },
  {
   "cell_type": "code",
   "execution_count": 43,
   "metadata": {},
   "outputs": [],
   "source": [
    "dec_result, dec_state = decoder(\n",
    "    DecoderInput(sampled_token,\n",
    "                 example_enc_output,\n",
    "                 mask=(example_tokens != 0)),\n",
    "    state=dec_state)"
   ]
  },
  {
   "cell_type": "code",
   "execution_count": 44,
   "metadata": {},
   "outputs": [
    {
     "data": {
      "text/plain": [
       "array([['мяса'],\n",
       "       ['навчилася'],\n",
       "       ['пили'],\n",
       "       ['кордоном'],\n",
       "       ['йогурт']], dtype='<U16')"
      ]
     },
     "execution_count": 44,
     "metadata": {},
     "output_type": "execute_result"
    }
   ],
   "source": [
    "sampled_token = tf.random.categorical(dec_result.logits[:, 0, :], num_samples=1)\n",
    "first_word = vocab[sampled_token.numpy()]\n",
    "first_word[:5]"
   ]
  },
  {
   "cell_type": "code",
   "execution_count": 27,
   "metadata": {},
   "outputs": [],
   "source": [
    "class MaskedLoss(tf.keras.losses.Loss):\n",
    "    def __init__(self):\n",
    "        self.name = 'masked_loss'\n",
    "        self.loss = tf.keras.losses.SparseCategoricalCrossentropy(from_logits=True, reduction='none')\n",
    "\n",
    "    def __call__(self, y_true, y_pred):\n",
    "        shape_checker = ShapeChecker()\n",
    "        shape_checker(y_true, ('batch', 't'))\n",
    "        shape_checker(y_pred, ('batch', 't', 'logits'))\n",
    "\n",
    "        # Calculate the loss for each item in the batch.\n",
    "        loss = self.loss(y_true, y_pred)\n",
    "        shape_checker(loss, ('batch', 't'))\n",
    "\n",
    "        # Mask off the losses on padding.\n",
    "        mask = tf.cast(y_true != 0, tf.float32)\n",
    "        shape_checker(mask, ('batch', 't'))\n",
    "        loss *= mask\n",
    "\n",
    "        # Return the total.\n",
    "        return tf.reduce_sum(loss)"
   ]
  },
  {
   "cell_type": "code",
   "execution_count": 28,
   "metadata": {},
   "outputs": [],
   "source": [
    "class TrainTranslator(tf.keras.Model):\n",
    "    def __init__(self, embedding_dim, units,\n",
    "               input_text_processor,\n",
    "               output_text_processor, \n",
    "               use_tf_function=True):\n",
    "        super().__init__()\n",
    "        # Build the encoder and decoder\n",
    "        encoder = Encoder(input_text_processor.vocabulary_size(), embedding_dim, units)\n",
    "        decoder = Decoder(output_text_processor.vocabulary_size(), embedding_dim, units)\n",
    "\n",
    "        self.encoder = encoder\n",
    "        self.decoder = decoder\n",
    "        self.input_text_processor = input_text_processor\n",
    "        self.output_text_processor = output_text_processor\n",
    "        self.use_tf_function = use_tf_function\n",
    "        self.shape_checker = ShapeChecker()\n",
    "\n",
    "    def train_step(self, inputs):\n",
    "        self.shape_checker = ShapeChecker()\n",
    "        if self.use_tf_function:\n",
    "            return self._tf_train_step(inputs)\n",
    "        else:\n",
    "            return self._train_step(inputs)"
   ]
  },
  {
   "cell_type": "code",
   "execution_count": 29,
   "metadata": {},
   "outputs": [],
   "source": [
    "def _preprocess(self, input_text, target_text):\n",
    "    self.shape_checker(input_text, ('batch',))\n",
    "    self.shape_checker(target_text, ('batch',))\n",
    "\n",
    "    # Convert the text to token IDs\n",
    "    input_tokens = self.input_text_processor(input_text)\n",
    "    target_tokens = self.output_text_processor(target_text)\n",
    "    self.shape_checker(input_tokens, ('batch', 's'))\n",
    "    self.shape_checker(target_tokens, ('batch', 't'))\n",
    "\n",
    "    # Convert IDs to masks.\n",
    "    input_mask = input_tokens != 0\n",
    "    self.shape_checker(input_mask, ('batch', 's'))\n",
    "\n",
    "    target_mask = target_tokens != 0\n",
    "    self.shape_checker(target_mask, ('batch', 't'))\n",
    "\n",
    "    return input_tokens, input_mask, target_tokens, target_mask"
   ]
  },
  {
   "cell_type": "code",
   "execution_count": 30,
   "metadata": {},
   "outputs": [],
   "source": [
    "TrainTranslator._preprocess = _preprocess"
   ]
  },
  {
   "cell_type": "code",
   "execution_count": 31,
   "metadata": {},
   "outputs": [],
   "source": [
    "def _train_step(self, inputs):\n",
    "    input_text, target_text = inputs  \n",
    "\n",
    "    (input_tokens, input_mask,\n",
    "    target_tokens, target_mask) = self._preprocess(input_text, target_text)\n",
    "\n",
    "    max_target_length = tf.shape(target_tokens)[1]\n",
    "\n",
    "    with tf.GradientTape() as tape:\n",
    "        # Encode the input\n",
    "        enc_output, enc_state = self.encoder(input_tokens)\n",
    "        self.shape_checker(enc_output, ('batch', 's', 'enc_units'))\n",
    "        self.shape_checker(enc_state, ('batch', 'enc_units'))\n",
    "\n",
    "        # Initialize the decoder's state to the encoder's final state.\n",
    "        # This only works if the encoder and decoder have the same number of\n",
    "        # units.\n",
    "        dec_state = enc_state\n",
    "        loss = tf.constant(0.0)\n",
    "\n",
    "        for t in tf.range(max_target_length-1):\n",
    "            # Pass in two tokens from the target sequence:\n",
    "            # 1. The current input to the decoder.\n",
    "            # 2. The target for the decoder's next prediction.\n",
    "            new_tokens = target_tokens[:, t:t+2]\n",
    "            step_loss, dec_state = self._loop_step(new_tokens, input_mask, enc_output, dec_state)\n",
    "            loss = loss + step_loss\n",
    "\n",
    "        # Average the loss over all non padding tokens.\n",
    "        average_loss = loss / tf.reduce_sum(tf.cast(target_mask, tf.float32))\n",
    "\n",
    "    # Apply an optimization step\n",
    "    variables = self.trainable_variables \n",
    "    gradients = tape.gradient(average_loss, variables)\n",
    "    self.optimizer.apply_gradients(zip(gradients, variables))\n",
    "\n",
    "    # Return a dict mapping metric names to current value\n",
    "    return {'batch_loss': average_loss}"
   ]
  },
  {
   "cell_type": "code",
   "execution_count": 32,
   "metadata": {},
   "outputs": [],
   "source": [
    "TrainTranslator._train_step = _train_step"
   ]
  },
  {
   "cell_type": "code",
   "execution_count": 33,
   "metadata": {},
   "outputs": [],
   "source": [
    "def _loop_step(self, new_tokens, input_mask, enc_output, dec_state):\n",
    "    input_token, target_token = new_tokens[:, 0:1], new_tokens[:, 1:2]\n",
    "\n",
    "    # Run the decoder one step.\n",
    "    decoder_input = DecoderInput(new_tokens=input_token,\n",
    "                                 enc_output=enc_output,\n",
    "                                 mask=input_mask)\n",
    "\n",
    "    dec_result, dec_state = self.decoder(decoder_input, state=dec_state)\n",
    "    self.shape_checker(dec_result.logits, ('batch', 't1', 'logits'))\n",
    "    self.shape_checker(dec_result.attention_weights, ('batch', 't1', 's'))\n",
    "    self.shape_checker(dec_state, ('batch', 'dec_units'))\n",
    "\n",
    "    # `self.loss` returns the total for non-padded tokens\n",
    "    y = target_token\n",
    "    y_pred = dec_result.logits\n",
    "    step_loss = self.loss(y, y_pred)\n",
    "\n",
    "    return step_loss, dec_state"
   ]
  },
  {
   "cell_type": "code",
   "execution_count": 34,
   "metadata": {},
   "outputs": [],
   "source": [
    "TrainTranslator._loop_step = _loop_step"
   ]
  },
  {
   "cell_type": "code",
   "execution_count": 35,
   "metadata": {},
   "outputs": [],
   "source": [
    "translator = TrainTranslator(\n",
    "    embedding_dim, units,\n",
    "    input_text_processor=input_text_processor,\n",
    "    output_text_processor=output_text_processor,\n",
    "    use_tf_function=False)\n",
    "\n",
    "# Configure the loss and optimizer\n",
    "translator.compile(\n",
    "    optimizer=tf.optimizers.Adam(),\n",
    "    loss=MaskedLoss(),\n",
    ")"
   ]
  },
  {
   "cell_type": "code",
   "execution_count": 36,
   "metadata": {},
   "outputs": [
    {
     "data": {
      "text/plain": [
       "8.517193191416238"
      ]
     },
     "execution_count": 36,
     "metadata": {},
     "output_type": "execute_result"
    }
   ],
   "source": [
    "np.log(output_text_processor.vocabulary_size())"
   ]
  },
  {
   "cell_type": "code",
   "execution_count": 55,
   "metadata": {},
   "outputs": [
    {
     "name": "stdout",
     "output_type": "stream",
     "text": [
      "{'batch_loss': <tf.Tensor: shape=(), dtype=float32, numpy=7.495377>}\n",
      "{'batch_loss': <tf.Tensor: shape=(), dtype=float32, numpy=7.302686>}\n",
      "{'batch_loss': <tf.Tensor: shape=(), dtype=float32, numpy=6.8195324>}\n",
      "{'batch_loss': <tf.Tensor: shape=(), dtype=float32, numpy=5.368052>}\n",
      "{'batch_loss': <tf.Tensor: shape=(), dtype=float32, numpy=2.9284706>}\n",
      "{'batch_loss': <tf.Tensor: shape=(), dtype=float32, numpy=2.8162718>}\n",
      "{'batch_loss': <tf.Tensor: shape=(), dtype=float32, numpy=2.0854642>}\n",
      "{'batch_loss': <tf.Tensor: shape=(), dtype=float32, numpy=0.82289684>}\n",
      "{'batch_loss': <tf.Tensor: shape=(), dtype=float32, numpy=2.1900632>}\n",
      "{'batch_loss': <tf.Tensor: shape=(), dtype=float32, numpy=0.8781257>}\n",
      "\n",
      "CPU times: user 1min 16s, sys: 13.9 s, total: 1min 30s\n",
      "Wall time: 51.8 s\n"
     ]
    }
   ],
   "source": [
    "%%time\n",
    "for n in range(10):\n",
    "  print(translator.train_step([example_input_batch, example_target_batch]))\n",
    "print()"
   ]
  },
  {
   "cell_type": "code",
   "execution_count": 37,
   "metadata": {},
   "outputs": [],
   "source": [
    "@tf.function(input_signature=[[tf.TensorSpec(dtype=tf.string, shape=[None]),\n",
    "                               tf.TensorSpec(dtype=tf.string, shape=[None])]])\n",
    "def _tf_train_step(self, inputs):\n",
    "    return self._train_step(inputs)"
   ]
  },
  {
   "cell_type": "code",
   "execution_count": 38,
   "metadata": {},
   "outputs": [],
   "source": [
    "TrainTranslator._tf_train_step = _tf_train_step"
   ]
  },
  {
   "cell_type": "code",
   "execution_count": 39,
   "metadata": {},
   "outputs": [],
   "source": [
    "translator.use_tf_function = True"
   ]
  },
  {
   "cell_type": "code",
   "execution_count": 59,
   "metadata": {},
   "outputs": [
    {
     "data": {
      "text/plain": [
       "{'batch_loss': <tf.Tensor: shape=(), dtype=float32, numpy=0.6269427>}"
      ]
     },
     "execution_count": 59,
     "metadata": {},
     "output_type": "execute_result"
    }
   ],
   "source": [
    "translator.train_step([example_input_batch, example_target_batch])"
   ]
  },
  {
   "cell_type": "code",
   "execution_count": 60,
   "metadata": {},
   "outputs": [
    {
     "name": "stdout",
     "output_type": "stream",
     "text": [
      "{'batch_loss': <tf.Tensor: shape=(), dtype=float32, numpy=0.6847089>}\n",
      "{'batch_loss': <tf.Tensor: shape=(), dtype=float32, numpy=0.7384383>}\n",
      "{'batch_loss': <tf.Tensor: shape=(), dtype=float32, numpy=0.73326045>}\n",
      "{'batch_loss': <tf.Tensor: shape=(), dtype=float32, numpy=0.7154312>}\n",
      "{'batch_loss': <tf.Tensor: shape=(), dtype=float32, numpy=0.6990212>}\n",
      "{'batch_loss': <tf.Tensor: shape=(), dtype=float32, numpy=0.6766735>}\n",
      "{'batch_loss': <tf.Tensor: shape=(), dtype=float32, numpy=0.662495>}\n",
      "{'batch_loss': <tf.Tensor: shape=(), dtype=float32, numpy=0.6483926>}\n",
      "{'batch_loss': <tf.Tensor: shape=(), dtype=float32, numpy=0.63569087>}\n",
      "{'batch_loss': <tf.Tensor: shape=(), dtype=float32, numpy=0.6330535>}\n",
      "\n",
      "CPU times: user 1min 12s, sys: 8.86 s, total: 1min 21s\n",
      "Wall time: 27.7 s\n"
     ]
    }
   ],
   "source": [
    "%%time\n",
    "for n in range(10):\n",
    "    print(translator.train_step([example_input_batch, example_target_batch]))\n",
    "print()"
   ]
  },
  {
   "cell_type": "code",
   "execution_count": 61,
   "metadata": {},
   "outputs": [
    {
     "name": "stdout",
     "output_type": "stream",
     "text": [
      "{'batch_loss': <tf.Tensor: shape=(), dtype=float32, numpy=0.60428214>}\n",
      "{'batch_loss': <tf.Tensor: shape=(), dtype=float32, numpy=0.56367683>}\n",
      "{'batch_loss': <tf.Tensor: shape=(), dtype=float32, numpy=0.55095947>}\n",
      "{'batch_loss': <tf.Tensor: shape=(), dtype=float32, numpy=0.52593035>}\n",
      "{'batch_loss': <tf.Tensor: shape=(), dtype=float32, numpy=0.47696435>}\n",
      "{'batch_loss': <tf.Tensor: shape=(), dtype=float32, numpy=0.5247637>}\n",
      "{'batch_loss': <tf.Tensor: shape=(), dtype=float32, numpy=0.5113269>}\n",
      "{'batch_loss': <tf.Tensor: shape=(), dtype=float32, numpy=0.56493706>}\n",
      "{'batch_loss': <tf.Tensor: shape=(), dtype=float32, numpy=0.49843177>}\n",
      "{'batch_loss': <tf.Tensor: shape=(), dtype=float32, numpy=0.45898333>}\n",
      "\n",
      "CPU times: user 1min 11s, sys: 8.46 s, total: 1min 20s\n",
      "Wall time: 22.3 s\n"
     ]
    }
   ],
   "source": [
    "%%time\n",
    "for n in range(10):\n",
    "    print(translator.train_step([example_input_batch, example_target_batch]))\n",
    "print()"
   ]
  },
  {
   "cell_type": "code",
   "execution_count": 62,
   "metadata": {},
   "outputs": [
    {
     "name": "stdout",
     "output_type": "stream",
     "text": [
      "....................................................................................................\n"
     ]
    },
    {
     "data": {
      "text/plain": [
       "[<matplotlib.lines.Line2D at 0x1464eced0>]"
      ]
     },
     "execution_count": 62,
     "metadata": {},
     "output_type": "execute_result"
    },
    {
     "data": {
      "image/png": "[encoded data removed]",
      "text/plain": [
       "<Figure size 432x288 with 1 Axes>"
      ]
     },
     "metadata": {
      "needs_background": "light"
     },
     "output_type": "display_data"
    }
   ],
   "source": [
    "losses = []\n",
    "for n in range(100):\n",
    "    print('.', end='')\n",
    "    logs = translator.train_step([example_input_batch, example_target_batch])\n",
    "    losses.append(logs['batch_loss'].numpy())\n",
    "\n",
    "print()\n",
    "plt.plot(losses)"
   ]
  },
  {
   "cell_type": "code",
   "execution_count": 40,
   "metadata": {},
   "outputs": [],
   "source": [
    "train_translator = TrainTranslator(\n",
    "    embedding_dim, units,\n",
    "    input_text_processor=input_text_processor,\n",
    "    output_text_processor=output_text_processor)\n",
    "\n",
    "# Configure the loss and optimizer\n",
    "train_translator.compile(\n",
    "    optimizer=tf.optimizers.Adam(),\n",
    "    loss=MaskedLoss(),\n",
    ")"
   ]
  },
  {
   "cell_type": "code",
   "execution_count": 41,
   "metadata": {},
   "outputs": [],
   "source": [
    "class BatchLogs(tf.keras.callbacks.Callback):\n",
    "    def __init__(self, key):\n",
    "        self.key = key\n",
    "        self.logs = []\n",
    "\n",
    "    def on_train_batch_end(self, n, logs):\n",
    "        self.logs.append(logs[self.key])\n",
    "\n",
    "batch_loss = BatchLogs('batch_loss')"
   ]
  },
  {
   "cell_type": "code",
   "execution_count": 42,
   "metadata": {},
   "outputs": [
    {
     "name": "stdout",
     "output_type": "stream",
     "text": [
      "Epoch 1/3\n",
      "2404/2404 [==============================] - 7279s 3s/step - batch_loss: 0.2094\n",
      "Epoch 2/3\n",
      "2404/2404 [==============================] - 10623s 4s/step - batch_loss: 0.1580\n",
      "Epoch 3/3\n",
      "2404/2404 [==============================] - 6272s 3s/step - batch_loss: 0.1458\n"
     ]
    },
    {
     "data": {
      "text/plain": [
       "<keras.callbacks.History at 0x14b8557d0>"
      ]
     },
     "execution_count": 42,
     "metadata": {},
     "output_type": "execute_result"
    }
   ],
   "source": [
    "train_translator.fit(dataset, epochs=3,\n",
    "                     callbacks=[batch_loss])"
   ]
  },
  {
   "cell_type": "code",
   "execution_count": 44,
   "metadata": {},
   "outputs": [
    {
     "data": {
      "text/plain": [
       "Text(0, 0.5, 'CE/token')"
      ]
     },
     "execution_count": 44,
     "metadata": {},
     "output_type": "execute_result"
    },
    {
     "data": {
      "image/png": "[encoded data removed]",
      "text/plain": [
       "<Figure size 432x288 with 1 Axes>"
      ]
     },
     "metadata": {
      "needs_background": "light"
     },
     "output_type": "display_data"
    }
   ],
   "source": [
    "plt.plot(batch_loss.logs)\n",
    "plt.ylim([0, 3])\n",
    "plt.xlabel('Batch #')\n",
    "plt.ylabel('CE/token')"
   ]
  },
  {
   "cell_type": "code",
   "execution_count": null,
   "metadata": {},
   "outputs": [],
   "source": [
    "# lowercase\n",
    "# clean weird characters\n",
    "# convert into tensorflow Dataset (split into batches)\n",
    "# tokenize\n",
    "# take 5000 most common tokens\n",
    "# all other tokens replace with <UNK>\n",
    "# convert data into ID vectors; vector length is the longest sentence in the dataset; pad shorter sentences with ''\n",
    "\n",
    "# Encoder:\n",
    "   # pass the ID vector to tf.keras.layers.Embedding to generate an embedding vector\n",
    "   # pass embeddings through GRU to have a composit representation of the whole sentence\n",
    "     # ?? check what exactly GRU does\n",
    "   # create an attention vector with weights for each word\n",
    "     # ?? how are weights calculated? are they learned? through a formula?\n",
    "\n",
    "# Decoder:"
   ]
  },
  {
   "cell_type": "code",
   "execution_count": 77,
   "metadata": {},
   "outputs": [
    {
     "name": "stderr",
     "output_type": "stream",
     "text": [
      "WARNING:absl:Found untraced functions such as encoder_2_layer_call_fn, encoder_2_layer_call_and_return_conditional_losses, decoder_2_layer_call_fn, decoder_2_layer_call_and_return_conditional_losses, embedding_4_layer_call_fn while saving (showing 5 of 60). These functions will not be directly callable after loading.\n"
     ]
    },
    {
     "name": "stdout",
     "output_type": "stream",
     "text": [
      "INFO:tensorflow:Assets written to: translator/assets\n"
     ]
    },
    {
     "name": "stderr",
     "output_type": "stream",
     "text": [
      "INFO:tensorflow:Assets written to: translator/assets\n"
     ]
    }
   ],
   "source": [
    "# train_translator.save(\"uk-en_NMT_model\")\n",
    "tf.saved_model.save(translator, 'translator',\n",
    "                    signatures={'serving_default': translator.tf_translate})"
   ]
  },
  {
   "cell_type": "code",
   "execution_count": 45,
   "metadata": {},
   "outputs": [],
   "source": [
    "class Translator(tf.Module):\n",
    "\n",
    "    def __init__(self, encoder, decoder, input_text_processor,\n",
    "               output_text_processor):\n",
    "        self.encoder = encoder\n",
    "        self.decoder = decoder\n",
    "        self.input_text_processor = input_text_processor\n",
    "        self.output_text_processor = output_text_processor\n",
    "\n",
    "        self.output_token_string_from_index = (\n",
    "            tf.keras.layers.StringLookup(\n",
    "                vocabulary=output_text_processor.get_vocabulary(),\n",
    "                mask_token='',\n",
    "                invert=True))\n",
    "\n",
    "        # The output should never generate padding, unknown, or start.\n",
    "        index_from_string = tf.keras.layers.StringLookup(\n",
    "            vocabulary=output_text_processor.get_vocabulary(), mask_token='')\n",
    "        token_mask_ids = index_from_string(['', '[UNK]', '[START]']).numpy()\n",
    "\n",
    "        token_mask = np.zeros([index_from_string.vocabulary_size()], dtype=np.bool)\n",
    "        token_mask[np.array(token_mask_ids)] = True\n",
    "        self.token_mask = token_mask\n",
    "\n",
    "        self.start_token = index_from_string(tf.constant('[START]'))\n",
    "        self.end_token = index_from_string(tf.constant('[END]'))"
   ]
  },
  {
   "cell_type": "code",
   "execution_count": 46,
   "metadata": {},
   "outputs": [],
   "source": [
    "translator = Translator(\n",
    "    encoder=train_translator.encoder,\n",
    "    decoder=train_translator.decoder,\n",
    "    input_text_processor=input_text_processor,\n",
    "    output_text_processor=output_text_processor,\n",
    ")"
   ]
  },
  {
   "cell_type": "code",
   "execution_count": 47,
   "metadata": {},
   "outputs": [],
   "source": [
    "def tokens_to_text(self, result_tokens):\n",
    "    shape_checker = ShapeChecker()\n",
    "    shape_checker(result_tokens, ('batch', 't'))\n",
    "    result_text_tokens = self.output_token_string_from_index(result_tokens)\n",
    "    shape_checker(result_text_tokens, ('batch', 't'))\n",
    "\n",
    "    result_text = tf.strings.reduce_join(result_text_tokens,\n",
    "                                       axis=1, separator=' ')\n",
    "    shape_checker(result_text, ('batch'))\n",
    "\n",
    "    result_text = tf.strings.strip(result_text)\n",
    "    shape_checker(result_text, ('batch',))\n",
    "    return result_text"
   ]
  },
  {
   "cell_type": "code",
   "execution_count": 48,
   "metadata": {},
   "outputs": [],
   "source": [
    "Translator.tokens_to_text = tokens_to_text"
   ]
  },
  {
   "cell_type": "code",
   "execution_count": 49,
   "metadata": {},
   "outputs": [
    {
     "data": {
      "text/plain": [
       "array([b'\\xd0\\xbd\\xd1\\x96\\xd0\\xba\\xd1\\x83\\xd0\\xb4\\xd0\\xb8 \\xd0\\xbc\\xd0\\xb0\\xd0\\xb8\\xcc\\x86\\xd0\\xb1\\xd1\\x83\\xd1\\x82\\xd0\\xbd\\xd1\\x94',\n",
       "       b'\\xd0\\xb0\\xd0\\xbf\\xd0\\xb5\\xd1\\x82\\xd0\\xb8\\xd1\\x82 \\xd0\\xbc\\xd0\\xb5\\xd1\\x88\\xd0\\xba\\xd0\\xb0\\xd1\\x8e',\n",
       "       b'\\xd0\\xb1\\xd0\\xbe\\xd1\\x81\\xd1\\x82\\xd0\\xbe\\xd0\\xbd\\xd0\\xb0 \\xd0\\xb2\\xd1\\x96\\xd0\\xb4\\xd1\\x87\\xd1\\x83\\xd0\\xb2\\xd0\\xb0\\xd1\\x82\\xd0\\xb8',\n",
       "       b'\\xd0\\xbc\\xd0\\xb8\\xd0\\xbd\\xd1\\x83\\xd0\\xbb\\xd0\\xbe\\xd0\\xb3\\xd0\\xbe \\xd1\\x80\\xd0\\xbe\\xd0\\xb7\\xd0\\xbb\\xd1\\x8e\\xd1\\x82\\xd0\\xb8\\xd0\\xb2\\xd1\\x81\\xd1\\x8f',\n",
       "       b'\\xd0\\xb2\\xd0\\xb7\\xd0\\xb0\\xd0\\xb3\\xd0\\xb0\\xd0\\xbb\\xd1\\x96 \\xd1\\x83\\xd0\\xb1\\xd0\\xb8\\xd0\\xb2'],\n",
       "      dtype=object)"
      ]
     },
     "execution_count": 49,
     "metadata": {},
     "output_type": "execute_result"
    }
   ],
   "source": [
    "example_output_tokens = tf.random.uniform(\n",
    "    shape=[5, 2], minval=0, dtype=tf.int64,\n",
    "    maxval=output_text_processor.vocabulary_size())\n",
    "translator.tokens_to_text(example_output_tokens).numpy()"
   ]
  },
  {
   "cell_type": "code",
   "execution_count": 51,
   "metadata": {},
   "outputs": [],
   "source": [
    "def sample(self, logits, temperature):\n",
    "    shape_checker = ShapeChecker()\n",
    "    # 't' is usually 1 here.\n",
    "    shape_checker(logits, ('batch', 't', 'vocab'))\n",
    "    shape_checker(self.token_mask, ('vocab',))\n",
    "\n",
    "    token_mask = self.token_mask[tf.newaxis, tf.newaxis, :]\n",
    "    shape_checker(token_mask, ('batch', 't', 'vocab'), broadcast=True)\n",
    "\n",
    "    # Set the logits for all masked tokens to -inf, so they are never chosen.\n",
    "    logits = tf.where(self.token_mask, -np.inf, logits)\n",
    "\n",
    "    if temperature == 0.0:\n",
    "        new_tokens = tf.argmax(logits, axis=-1)\n",
    "    else: \n",
    "        logits = tf.squeeze(logits, axis=1)\n",
    "        new_tokens = tf.random.categorical(logits/temperature,\n",
    "                                            num_samples=1)\n",
    "\n",
    "    shape_checker(new_tokens, ('batch', 't'))\n",
    "\n",
    "    return new_tokens"
   ]
  },
  {
   "cell_type": "code",
   "execution_count": 52,
   "metadata": {},
   "outputs": [],
   "source": [
    "Translator.sample = sample"
   ]
  },
  {
   "cell_type": "code",
   "execution_count": 53,
   "metadata": {},
   "outputs": [
    {
     "data": {
      "text/plain": [
       "<tf.Tensor: shape=(5, 1), dtype=int64, numpy=\n",
       "array([[4365],\n",
       "       [4935],\n",
       "       [1002],\n",
       "       [ 774],\n",
       "       [3359]])>"
      ]
     },
     "execution_count": 53,
     "metadata": {},
     "output_type": "execute_result"
    }
   ],
   "source": [
    "example_logits = tf.random.normal([5, 1, output_text_processor.vocabulary_size()])\n",
    "example_output_tokens = translator.sample(example_logits, temperature=1.0)\n",
    "example_output_tokens"
   ]
  },
  {
   "cell_type": "code",
   "execution_count": 57,
   "metadata": {},
   "outputs": [],
   "source": [
    "def translate_unrolled(self,\n",
    "                       input_text, *,\n",
    "                       max_length=50,\n",
    "                       return_attention=True,\n",
    "                       temperature=1.0):\n",
    "    batch_size = tf.shape(input_text)[0]\n",
    "    input_tokens = self.input_text_processor(input_text)\n",
    "    enc_output, enc_state = self.encoder(input_tokens)\n",
    "\n",
    "    dec_state = enc_state\n",
    "    new_tokens = tf.fill([batch_size, 1], self.start_token)\n",
    "\n",
    "    result_tokens = []\n",
    "    attention = []\n",
    "    done = tf.zeros([batch_size, 1], dtype=tf.bool)\n",
    "\n",
    "    for _ in range(max_length):\n",
    "        dec_input = DecoderInput(new_tokens=new_tokens,\n",
    "                                 enc_output=enc_output,\n",
    "                                 mask=(input_tokens!=0))\n",
    "\n",
    "        dec_result, dec_state = self.decoder(dec_input, state=dec_state)\n",
    "\n",
    "        attention.append(dec_result.attention_weights)\n",
    "\n",
    "        new_tokens = self.sample(dec_result.logits, temperature)\n",
    "\n",
    "        # If a sequence produces an `end_token`, set it `done`\n",
    "        done = done | (new_tokens == self.end_token)\n",
    "        # Once a sequence is done it only produces 0-padding.\n",
    "        new_tokens = tf.where(done, tf.constant(0, dtype=tf.int64), new_tokens)\n",
    "\n",
    "        # Collect the generated tokens\n",
    "        result_tokens.append(new_tokens)\n",
    "\n",
    "        if tf.executing_eagerly() and tf.reduce_all(done):\n",
    "            break\n",
    "\n",
    "    # Convert the list of generates token ids to a list of strings.\n",
    "    result_tokens = tf.concat(result_tokens, axis=-1)\n",
    "    result_text = self.tokens_to_text(result_tokens)\n",
    "\n",
    "    if return_attention:\n",
    "        attention_stack = tf.concat(attention, axis=1)\n",
    "        return {'text': result_text, 'attention': attention_stack}\n",
    "    else:\n",
    "        return {'text': result_text}"
   ]
  },
  {
   "cell_type": "code",
   "execution_count": 58,
   "metadata": {},
   "outputs": [],
   "source": [
    "Translator.translate = translate_unrolled"
   ]
  },
  {
   "cell_type": "code",
   "execution_count": 70,
   "metadata": {},
   "outputs": [
    {
     "name": "stdout",
     "output_type": "stream",
     "text": [
      ", ?\n",
      ", , ?\n",
      "\n",
      "CPU times: user 332 ms, sys: 10.6 ms, total: 343 ms\n",
      "Wall time: 255 ms\n"
     ]
    }
   ],
   "source": [
    "%%time\n",
    "input_text = tf.constant([\n",
    "    \"It's really cold here.\", # \"It's really cold here.\"\n",
    "    'This is my life.', # \"This is my life.\"\"\n",
    "])\n",
    "\n",
    "result = translator.translate(\n",
    "    input_text = input_text)\n",
    "\n",
    "print(result['text'][0].numpy().decode())\n",
    "print(result['text'][1].numpy().decode())\n",
    "print()"
   ]
  },
  {
   "cell_type": "code",
   "execution_count": 61,
   "metadata": {},
   "outputs": [],
   "source": [
    "@tf.function(input_signature=[tf.TensorSpec(dtype=tf.string, shape=[None])])\n",
    "def tf_translate(self, input_text):\n",
    "    return self.translate(input_text)\n",
    "\n",
    "Translator.tf_translate = tf_translate"
   ]
  },
  {
   "cell_type": "code",
   "execution_count": 62,
   "metadata": {},
   "outputs": [
    {
     "name": "stdout",
     "output_type": "stream",
     "text": [
      "CPU times: user 30.4 s, sys: 837 ms, total: 31.3 s\n",
      "Wall time: 31.4 s\n"
     ]
    }
   ],
   "source": [
    "%%time\n",
    "result = translator.tf_translate(\n",
    "    input_text = input_text)"
   ]
  },
  {
   "cell_type": "code",
   "execution_count": 64,
   "metadata": {},
   "outputs": [
    {
     "name": "stdout",
     "output_type": "stream",
     "text": [
      ", ?\n",
      "\n",
      "\n",
      "CPU times: user 1.16 s, sys: 45.5 ms, total: 1.21 s\n",
      "Wall time: 398 ms\n"
     ]
    }
   ],
   "source": [
    "%%time\n",
    "result = translator.tf_translate(\n",
    "    input_text = input_text)\n",
    "\n",
    "print(result['text'][0].numpy().decode())\n",
    "print(result['text'][1].numpy().decode())\n",
    "print()"
   ]
  },
  {
   "cell_type": "code",
   "execution_count": 65,
   "metadata": {},
   "outputs": [
    {
     "ename": "NameError",
     "evalue": "name 'translate_symbolic' is not defined",
     "output_type": "error",
     "traceback": [
      "\u001b[0;31m---------------------------------------------------------------------------\u001b[0m",
      "\u001b[0;31mNameError\u001b[0m                                 Traceback (most recent call last)",
      "\u001b[0;32m<ipython-input-65-0d573e8e0d34>\u001b[0m in \u001b[0;36m<module>\u001b[0;34m\u001b[0m\n\u001b[0;32m----> 1\u001b[0;31m \u001b[0mTranslator\u001b[0m\u001b[0;34m.\u001b[0m\u001b[0mtranslate\u001b[0m \u001b[0;34m=\u001b[0m \u001b[0mtranslate_symbolic\u001b[0m\u001b[0;34m\u001b[0m\u001b[0;34m\u001b[0m\u001b[0m\n\u001b[0m",
      "\u001b[0;31mNameError\u001b[0m: name 'translate_symbolic' is not defined"
     ]
    }
   ],
   "source": [
    "Translator.translate = translate_symbolic"
   ]
  },
  {
   "cell_type": "code",
   "execution_count": 66,
   "metadata": {},
   "outputs": [
    {
     "name": "stdout",
     "output_type": "stream",
     "text": [
      ".\n",
      ", ?\n",
      "\n",
      "CPU times: user 264 ms, sys: 7.89 ms, total: 272 ms\n",
      "Wall time: 197 ms\n"
     ]
    }
   ],
   "source": [
    "%%time\n",
    "result = translator.translate(\n",
    "    input_text = input_text)\n",
    "\n",
    "print(result['text'][0].numpy().decode())\n",
    "print(result['text'][1].numpy().decode())\n",
    "print()"
   ]
  },
  {
   "cell_type": "code",
   "execution_count": 67,
   "metadata": {},
   "outputs": [],
   "source": [
    "@tf.function(input_signature=[tf.TensorSpec(dtype=tf.string, shape=[None])])\n",
    "def tf_translate(self, input_text):\n",
    "    return self.translate(input_text)\n",
    "\n",
    "Translator.tf_translate = tf_translate"
   ]
  },
  {
   "cell_type": "code",
   "execution_count": 68,
   "metadata": {},
   "outputs": [
    {
     "name": "stdout",
     "output_type": "stream",
     "text": [
      "CPU times: user 33.9 s, sys: 855 ms, total: 34.7 s\n",
      "Wall time: 37.3 s\n"
     ]
    }
   ],
   "source": [
    "%%time\n",
    "result = translator.tf_translate(\n",
    "    input_text = input_text)"
   ]
  },
  {
   "cell_type": "code",
   "execution_count": 69,
   "metadata": {},
   "outputs": [
    {
     "name": "stdout",
     "output_type": "stream",
     "text": [
      ", . телефонує .\n",
      ".\n",
      "\n",
      "CPU times: user 1.18 s, sys: 42.7 ms, total: 1.22 s\n",
      "Wall time: 395 ms\n"
     ]
    }
   ],
   "source": [
    "%%time\n",
    "result = translator.tf_translate(\n",
    "    input_text = input_text)\n",
    "\n",
    "print(result['text'][0].numpy().decode())\n",
    "print(result['text'][1].numpy().decode())\n",
    "print()"
   ]
  },
  {
   "cell_type": "code",
   "execution_count": 71,
   "metadata": {},
   "outputs": [
    {
     "name": "stdout",
     "output_type": "stream",
     "text": [
      "[1.         1.         0.99999994 1.        ]\n"
     ]
    }
   ],
   "source": [
    "a = result['attention'][0]\n",
    "\n",
    "print(np.sum(a, axis=-1))"
   ]
  },
  {
   "cell_type": "code",
   "execution_count": 72,
   "metadata": {},
   "outputs": [
    {
     "data": {
      "image/png": "[encoded data removed]",
      "text/plain": [
       "<Figure size 432x288 with 1 Axes>"
      ]
     },
     "metadata": {
      "needs_background": "light"
     },
     "output_type": "display_data"
    }
   ],
   "source": [
    "_ = plt.bar(range(len(a[0, :])), a[0, :])"
   ]
  },
  {
   "cell_type": "code",
   "execution_count": 73,
   "metadata": {},
   "outputs": [
    {
     "data": {
      "text/plain": [
       "<matplotlib.image.AxesImage at 0x14d260510>"
      ]
     },
     "execution_count": 73,
     "metadata": {},
     "output_type": "execute_result"
    },
    {
     "data": {
      "image/png": "[encoded data removed]",
      "text/plain": [
       "<Figure size 432x288 with 1 Axes>"
      ]
     },
     "metadata": {
      "needs_background": "light"
     },
     "output_type": "display_data"
    }
   ],
   "source": [
    "plt.imshow(np.array(a), vmin=0.0)"
   ]
  },
  {
   "cell_type": "code",
   "execution_count": 74,
   "metadata": {},
   "outputs": [
    {
     "ename": "NameError",
     "evalue": "name 'plot_attention' is not defined",
     "output_type": "error",
     "traceback": [
      "\u001b[0;31m---------------------------------------------------------------------------\u001b[0m",
      "\u001b[0;31mNameError\u001b[0m                                 Traceback (most recent call last)",
      "\u001b[0;32m<ipython-input-74-7708417d2d18>\u001b[0m in \u001b[0;36m<module>\u001b[0;34m\u001b[0m\n\u001b[1;32m      1\u001b[0m \u001b[0mi\u001b[0m\u001b[0;34m=\u001b[0m\u001b[0;36m0\u001b[0m\u001b[0;34m\u001b[0m\u001b[0;34m\u001b[0m\u001b[0m\n\u001b[0;32m----> 2\u001b[0;31m \u001b[0mplot_attention\u001b[0m\u001b[0;34m(\u001b[0m\u001b[0mresult\u001b[0m\u001b[0;34m[\u001b[0m\u001b[0;34m'attention'\u001b[0m\u001b[0;34m]\u001b[0m\u001b[0;34m[\u001b[0m\u001b[0mi\u001b[0m\u001b[0;34m]\u001b[0m\u001b[0;34m,\u001b[0m \u001b[0minput_text\u001b[0m\u001b[0;34m[\u001b[0m\u001b[0mi\u001b[0m\u001b[0;34m]\u001b[0m\u001b[0;34m,\u001b[0m \u001b[0mresult\u001b[0m\u001b[0;34m[\u001b[0m\u001b[0;34m'text'\u001b[0m\u001b[0;34m]\u001b[0m\u001b[0;34m[\u001b[0m\u001b[0mi\u001b[0m\u001b[0;34m]\u001b[0m\u001b[0;34m)\u001b[0m\u001b[0;34m\u001b[0m\u001b[0;34m\u001b[0m\u001b[0m\n\u001b[0m",
      "\u001b[0;31mNameError\u001b[0m: name 'plot_attention' is not defined"
     ]
    }
   ],
   "source": [
    "i=0\n",
    "plot_attention(result['attention'][i], input_text[i], result['text'][i])"
   ]
  },
  {
   "cell_type": "code",
   "execution_count": 78,
   "metadata": {},
   "outputs": [],
   "source": [
    "reloaded = tf.saved_model.load('translator')"
   ]
  },
  {
   "cell_type": "code",
   "execution_count": 90,
   "metadata": {},
   "outputs": [],
   "source": [
    "result = reloaded.tf_translate(tf.constant([\",\"]))"
   ]
  },
  {
   "cell_type": "code",
   "execution_count": 91,
   "metadata": {},
   "outputs": [
    {
     "name": "stdout",
     "output_type": "stream",
     "text": [
      "\n"
     ]
    }
   ],
   "source": [
    "for tr in result['text']:\n",
    "    print(tr.numpy().decode())"
   ]
  },
  {
   "cell_type": "code",
   "execution_count": null,
   "metadata": {},
   "outputs": [],
   "source": []
  }
 ],
 "metadata": {
  "kernelspec": {
   "display_name": "MT_experiments",
   "language": "python",
   "name": "mt_experiments"
  },
  "language_info": {
   "codemirror_mode": {
    "name": "ipython",
    "version": 3
   },
   "file_extension": ".py",
   "mimetype": "text/x-python",
   "name": "python",
   "nbconvert_exporter": "python",
   "pygments_lexer": "ipython3",
   "version": "3.7.7"
  }
 },
 "nbformat": 4,
 "nbformat_minor": 4
}
